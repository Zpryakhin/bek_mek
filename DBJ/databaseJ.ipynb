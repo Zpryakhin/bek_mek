{
 "metadata": {
  "language_info": {
   "codemirror_mode": {
    "name": "ipython",
    "version": 3
   },
   "file_extension": ".py",
   "mimetype": "text/x-python",
   "name": "python",
   "nbconvert_exporter": "python",
   "pygments_lexer": "ipython3",
   "version": "3.8.6"
  },
  "orig_nbformat": 2,
  "kernelspec": {
   "name": "python386jvsc74a57bd02b4812f8b6583086cee39eb9b26b8f8748646c769ab40e155140a3b0375d4b1e",
   "display_name": "Python 3.8.6 64-bit"
  }
 },
 "nbformat": 4,
 "nbformat_minor": 2,
 "cells": [
  {
   "cell_type": "code",
   "execution_count": 43,
   "metadata": {},
   "outputs": [],
   "source": [
    "import sqlite3 as dbms\n",
    "\n",
    "conn = dbms.connect(\"students.sqlite3\")  # Как оригинально!\n",
    "cursor = conn.cursor()"
   ]
  },
  {
   "cell_type": "code",
   "execution_count": 44,
   "metadata": {},
   "outputs": [],
   "source": [
    "with open(\"11.drop_ddl.sql\", 'r', encoding='utf-8') as f:\n",
    "    drop_ddl = f.read()\n",
    "with open(\"11.create_ddl.sql\", 'r', encoding='utf-8') as f:\n",
    "    create_ddl = f.read()"
   ]
  },
  {
   "cell_type": "code",
   "execution_count": 45,
   "metadata": {},
   "outputs": [],
   "source": [
    "if True:\n",
    "    cursor.executescript(drop_ddl)\n",
    "    conn.commit()\n",
    "if True:\n",
    "    cursor.executescript(create_ddl)\n",
    "    conn.commit()"
   ]
  },
  {
   "cell_type": "code",
   "execution_count": 46,
   "metadata": {},
   "outputs": [],
   "source": [
    "import sqlalchemy\n",
    "from sqlalchemy import Table, Column, Integer, String, MetaData, ForeignKey\n",
    "from sqlalchemy.orm import sessionmaker, relationship\n",
    "from sqlalchemy.ext.declarative import declarative_base\n",
    "\n",
    "DeclBase = declarative_base()\n",
    "\n",
    "engine = sqlalchemy.create_engine('sqlite:///students.sqlite3', echo=False)  # echo=True для логгинга\n",
    "Session = sessionmaker(bind=engine)\n",
    "session = Session()"
   ]
  },
  {
   "cell_type": "code",
   "execution_count": 47,
   "metadata": {},
   "outputs": [],
   "source": [
    "null=True\n",
    "class Program(DeclBase):\n",
    "    __tablename__ = 'programs'\n",
    "    id = Column(Integer, primary_key=True)\n",
    "    name = Column(String)\n",
    "\n",
    "    students = relationship(\"Student\", backref=\"program\")\n",
    "    programs_courses = relationship(\"Program_course\", backref=\"program\")\n",
    "\n",
    "    def __init__(self, name):\n",
    "        self.name = name\n",
    "\n",
    "class Student(DeclBase):\n",
    "    __tablename__ = 'students'\n",
    "    id = Column(Integer, primary_key=True)\n",
    "    card = Column(String)\n",
    "    surname = Column(String)\n",
    "    name = Column(String)\n",
    "    patronymic = Column(String)\n",
    "    \n",
    "    program_id = Column(Integer, ForeignKey('programs.id'))\n",
    "    marks = relationship(\"Mark\", backref=\"student\")\n",
    "    \n",
    "    def __init__(self, card, surname, name, patronymic, program):\n",
    "        self.card = card\n",
    "        self.surname = surname\n",
    "        self.name = name\n",
    "        self.patronymic = patronymic\n",
    "        self.program = program\n",
    "        \n",
    "class Course(DeclBase):\n",
    "    __tablename__ = 'courses'\n",
    "    id = Column(Integer, primary_key=True)\n",
    "    name = Column(String)\n",
    "    \n",
    "    programs_courses = relationship(\"Program_course\", backref=\"course\")\n",
    "    marks = relationship(\"Mark\", backref=\"course\")\n",
    "    \n",
    "    def __init__(self, name):\n",
    "        self.name = name\n",
    "        \n",
    "class Program_course(DeclBase):\n",
    "    __tablename__ = 'programs_courses'\n",
    "    semester_number = Column(Integer, primary_key=True)\n",
    "    \n",
    "    course_id = Column(Integer, ForeignKey('courses.id'), primary_key=True)\n",
    "    program_id = Column(Integer, ForeignKey('programs.id'), primary_key=True)\n",
    "    \n",
    "    def __init__(self, semester_number, course, program):\n",
    "        self.semester_number = semester_number\n",
    "        self.course = course\n",
    "        self.program = program\n",
    "        \n",
    "class Mark(DeclBase):\n",
    "    __tablename__ = 'marks'\n",
    "    mark = Column(Integer)\n",
    "    \n",
    "    course_id = Column(Integer, ForeignKey('courses.id'), primary_key=True)\n",
    "    student_id = Column(Integer, ForeignKey('students.id'), primary_key=True)\n",
    "    \n",
    "    def __init__(self, mark, student, course):\n",
    "        self.mark = mark\n",
    "        self.student = student\n",
    "        self.course = course"
   ]
  },
  {
   "cell_type": "code",
   "execution_count": 48,
   "metadata": {},
   "outputs": [],
   "source": [
    "se = Program(\"Нанобиотехнологии\")\n",
    "sf = Program(\"Теоритическая физика\")\n",
    "\n",
    "st1 = Student(\"002004\", \"Пряхин\", \"Евгений\", \"Евгеньевич\", se)\n",
    "st2 = Student(\"002003\", \"Петрова\", \"Исидора\", \"Ивановна\", se)\n",
    "st3 = Student(\"002002\", \"Капусткин\", \"Федор\", \"Александрович\", sf)\n",
    "c1 = Course(\"Биология\")\n",
    "c2 = Course(\"Физика\")\n",
    "pc1 = Program_course(\"6\", c1, se)\n",
    "pc2 = Program_course(\"1\", c2, sf)\n",
    "m1 = Mark(\"5\", st1, c1)\n",
    "m2 = Mark(\"8\", st2, c1)\n",
    "m3 = Mark(\"3\",st3,c1)\n",
    "\n",
    "\n",
    "session.add_all([st1, st2, st3, c1, c2, pc1, pc2, m1, m2, m3]) \n",
    "session.commit()"
   ]
  },
  {
   "cell_type": "code",
   "execution_count": 49,
   "metadata": {},
   "outputs": [
    {
     "output_type": "stream",
     "name": "stdout",
     "text": [
      "Программы и студенты:\nПрограмма:  Нанобиотехнологии\n-  Пряхин Евгений\n-  Петрова Исидора\nНомер семестра: 6\nПрограмма:  Теоритическая физика\n-  Капусткин Федор\nНомер семестра: 1\n\nСтудент:  Евгений\n-  5\nСтудент:  Исидора\n-  8\nСтудент:  Федор\n-  3\n"
     ]
    }
   ],
   "source": [
    "import sys\n",
    "\n",
    "print(\"Программы и студенты:\")\n",
    "for p in session.query(Program):\n",
    "    print(\"Программа: \", p.name)\n",
    "    for s in p.students:\n",
    "        print(\"- \",s.surname, s.name)\n",
    "    for s in p.programs_courses:\n",
    "        print(\"Номер семестра:\", s.semester_number)\n",
    "print()        \n",
    "for p in session.query(Student):\n",
    "    print(\"Студент: \", p.name)\n",
    "    for s in p.marks:\n",
    "        print(\"- \", s.mark)"
   ]
  }
 ]
}